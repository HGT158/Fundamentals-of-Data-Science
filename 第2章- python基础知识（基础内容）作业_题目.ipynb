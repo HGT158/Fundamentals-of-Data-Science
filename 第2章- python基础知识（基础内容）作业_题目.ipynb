{
 "cells": [
  {
   "cell_type": "markdown",
   "metadata": {},
   "source": [
    "# python基础知识练习1\n"
   ]
  },
  {
   "cell_type": "markdown",
   "metadata": {},
   "source": [
    "### 注：\n",
    "* 代码下方的运行结果为同学们最终需要实现的结果(第三题解释题除外）\n",
    "* 所有题目的方法不止一种，同学们可以尽情发挥"
   ]
  },
  {
   "cell_type": "markdown",
   "metadata": {},
   "source": [
    "### 变量赋值和基本运算符使用"
   ]
  },
  {
   "cell_type": "markdown",
   "metadata": {},
   "source": [
    "#### 1.交换a,b两个变量的值并输出"
   ]
  },
  {
   "cell_type": "code",
   "execution_count": 1,
   "metadata": {},
   "outputs": [
    {
     "name": "stdout",
     "output_type": "stream",
     "text": [
      "6 hello\n"
     ]
    }
   ],
   "source": [
    "a=\"hello\"\n",
    "b=6\n",
    "#在下方输入你的代码\n",
    "\n",
    "c=a\n",
    "a=b\n",
    "b=c\n",
    "print(a,b)"
   ]
  },
  {
   "cell_type": "markdown",
   "metadata": {},
   "source": [
    "#### 2.计算1到50的和"
   ]
  },
  {
   "cell_type": "code",
   "execution_count": 2,
   "metadata": {},
   "outputs": [
    {
     "name": "stdout",
     "output_type": "stream",
     "text": [
      "1275\n"
     ]
    }
   ],
   "source": [
    "#your code\n",
    "#提示，需要用到for循环，for i in range(1,51)\n",
    "sum=0\n",
    "for i in range(1,51):\n",
    "    sum+=i\n",
    "print(sum)"
   ]
  },
  {
   "cell_type": "markdown",
   "metadata": {},
   "source": [
    "#### 3.请解释为何下述代码报错"
   ]
  },
  {
   "cell_type": "code",
   "execution_count": 3,
   "metadata": {},
   "outputs": [
    {
     "name": "stdout",
     "output_type": "stream",
     "text": [
      "[1, 2, 3, 4]\n"
     ]
    },
    {
     "ename": "TypeError",
     "evalue": "'list' object is not callable",
     "output_type": "error",
     "traceback": [
      "\u001b[31m---------------------------------------------------------------------------\u001b[39m",
      "\u001b[31mTypeError\u001b[39m                                 Traceback (most recent call last)",
      "\u001b[36mCell\u001b[39m\u001b[36m \u001b[39m\u001b[32mIn[3]\u001b[39m\u001b[32m, line 3\u001b[39m\n\u001b[32m      1\u001b[39m \u001b[38;5;28mlist\u001b[39m=[\u001b[32m1\u001b[39m,\u001b[32m2\u001b[39m,\u001b[32m3\u001b[39m,\u001b[32m4\u001b[39m]\n\u001b[32m      2\u001b[39m \u001b[38;5;28mprint\u001b[39m(\u001b[38;5;28mlist\u001b[39m)\n\u001b[32m----> \u001b[39m\u001b[32m3\u001b[39m a=\u001b[38;5;28;43mlist\u001b[39;49m\u001b[43m(\u001b[49m\u001b[43m[\u001b[49m\u001b[32;43m5\u001b[39;49m\u001b[43m,\u001b[49m\u001b[32;43m6\u001b[39;49m\u001b[43m,\u001b[49m\u001b[32;43m7\u001b[39;49m\u001b[43m]\u001b[49m\u001b[43m)\u001b[49m\n",
      "\u001b[31mTypeError\u001b[39m: 'list' object is not callable"
     ]
    }
   ],
   "source": [
    "list=[1,2,3,4]\n",
    "print(list)\n",
    "a=list([5,6,7])"
   ]
  },
  {
   "cell_type": "markdown",
   "metadata": {},
   "source": [
    "出错的原因：变量名与 Python 内置函数名冲突 list原本是 Python 的内置函数，用于创建列表。当将list重新赋值为一个列表后，它就不再是原来的内置函数\n",
    "\n",
    "Python 会认为你在尝试调用一个列表对象（而不是内置函数），而列表是不可调用的\n"
   ]
  },
  {
   "cell_type": "markdown",
   "metadata": {},
   "source": [
    "#### 4.给定一个Python列表,计算列表中的每个项目的平方"
   ]
  },
  {
   "cell_type": "code",
   "execution_count": 4,
   "metadata": {},
   "outputs": [
    {
     "name": "stdout",
     "output_type": "stream",
     "text": [
      "[1, 4, 9, 16, 25, 36, 49]\n"
     ]
    }
   ],
   "source": [
    "li=[1, 2, 3, 4, 5, 6, 7]\n",
    "\n",
    "#your code\n",
    "for i in range(len(li)):\n",
    "    li[i]=li[i]**2\n",
    "print(li)"
   ]
  },
  {
   "cell_type": "markdown",
   "metadata": {},
   "source": [
    "### 字符串处理及规范化输出"
   ]
  },
  {
   "cell_type": "markdown",
   "metadata": {},
   "source": [
    "#### 5.只显示偶数索引号处出现的字符"
   ]
  },
  {
   "cell_type": "code",
   "execution_count": null,
   "metadata": {},
   "outputs": [
    {
     "name": "stdout",
     "output_type": "stream",
     "text": [
      "'frteecs'\n"
     ]
    }
   ],
   "source": [
    "a='first exercise'\n",
    "#your code\n",
    "b=''\n",
    "for i in range(len(a)):\n",
    "    if((i)%2==0):\n",
    "        b=b+a[i]\n",
    "print(\"'\",b,\"'\",sep=\"\")"
   ]
  },
  {
   "cell_type": "markdown",
   "metadata": {},
   "source": [
    "#### 6.请根据给定条件，利用format语句，符合逻辑地填写Today is --，tomorrow is --"
   ]
  },
  {
   "cell_type": "code",
   "execution_count": null,
   "metadata": {},
   "outputs": [
    {
     "name": "stdout",
     "output_type": "stream",
     "text": [
      "Today is Monday,tomorrow is Tuesday\n"
     ]
    }
   ],
   "source": [
    "a=\"Monday\"\n",
    "b=\"Tuesday\"\n",
    "#your code\n",
    "print(\"Today is {},tomorrow is {}\".format(a,b))"
   ]
  },
  {
   "cell_type": "markdown",
   "metadata": {},
   "source": [
    "#### 7.输出组成给定字符串s的所有单词 "
   ]
  },
  {
   "cell_type": "code",
   "execution_count": null,
   "metadata": {},
   "outputs": [
    {
     "name": "stdout",
     "output_type": "stream",
     "text": [
      "['python', 'is', 'useful']\n"
     ]
    }
   ],
   "source": [
    "s=\"python is useful\"\n",
    "#your code\n",
    "words=s.split()\n",
    "print(words)"
   ]
  },
  {
   "cell_type": "markdown",
   "metadata": {},
   "source": [
    "#### 8.输出组成给定字符串s的所有字符（包括空格）"
   ]
  },
  {
   "cell_type": "code",
   "execution_count": null,
   "metadata": {},
   "outputs": [
    {
     "name": "stdout",
     "output_type": "stream",
     "text": [
      "['p',\n",
      " 'y',\n",
      " 't',\n",
      " 'h',\n",
      " 'o',\n",
      " 'n',\n",
      " ' ',\n",
      " 'i',\n",
      " 's',\n",
      " ' ',\n",
      " 'u',\n",
      " 's',\n",
      " 'e',\n",
      " 'f',\n",
      " 'u',\n",
      " 'l']\n"
     ]
    }
   ],
   "source": [
    "import pprint\n",
    "s=\"python is useful\"\n",
    "alist=list(s)\n",
    "pprint.pprint(alist,width=2)"
   ]
  },
  {
   "cell_type": "markdown",
   "metadata": {},
   "source": [
    "### Python控制流语法（if/else/for/while等）"
   ]
  },
  {
   "cell_type": "markdown",
   "metadata": {},
   "source": [
    "#### 9.给定一个数字列表，对其进行迭代并仅打印那些可被5整除的数字"
   ]
  },
  {
   "cell_type": "code",
   "execution_count": null,
   "metadata": {},
   "outputs": [
    {
     "name": "stdout",
     "output_type": "stream",
     "text": [
      "10\n",
      "20\n",
      "55\n"
     ]
    }
   ],
   "source": [
    "li=[10,20,33,46,55]\n",
    "#your code\n",
    "for num in li:\n",
    "    if num%5==0:\n",
    "        print(num)\n"
   ]
  },
  {
   "cell_type": "markdown",
   "metadata": {},
   "source": [
    "#### 10.打印如下所示的带有星号的半金字塔图案"
   ]
  },
  {
   "cell_type": "code",
   "execution_count": null,
   "metadata": {},
   "outputs": [
    {
     "name": "stdout",
     "output_type": "stream",
     "text": [
      "* * * * * \n",
      "\n",
      "* * * * \n",
      "\n",
      "* * * \n",
      "\n",
      "* * \n",
      "\n",
      "* \n",
      "\n"
     ]
    }
   ],
   "source": [
    "#your code\n",
    "for i in range(5,0,-1):\n",
    "    for j in range(i):\n",
    "        print(\"* \",end=\"\")\n",
    "    print(\"\\n\")\n",
    "    "
   ]
  },
  {
   "cell_type": "markdown",
   "metadata": {},
   "source": [
    "#### 11.给定一个列表，对其进行迭代并显示可被3整除的数字，如果发现大于150的数字，则停止循环迭代"
   ]
  },
  {
   "cell_type": "code",
   "execution_count": null,
   "metadata": {},
   "outputs": [
    {
     "name": "stdout",
     "output_type": "stream",
     "text": [
      "12\n",
      "15\n",
      "42\n",
      "75\n",
      "132\n",
      "150\n"
     ]
    }
   ],
   "source": [
    "li=[12, 15, 32, 42, 55, 75, 122, 132, 150, 180, 200]\n",
    "\n",
    "#your code\n",
    "for num in li:\n",
    "    if num%3==0 and num<=150:\n",
    "        print(num)"
   ]
  },
  {
   "cell_type": "markdown",
   "metadata": {},
   "source": [
    "#### 12.创建斐波那契数列(从第三项开始，后一项是前两项的和），形如下列结果，10位即可-"
   ]
  },
  {
   "cell_type": "code",
   "execution_count": null,
   "metadata": {},
   "outputs": [
    {
     "name": "stdout",
     "output_type": "stream",
     "text": [
      "0\n",
      "1\n",
      "1\n",
      "2\n",
      "3\n",
      "5\n",
      "8\n",
      "13\n",
      "21\n",
      "34\n"
     ]
    }
   ],
   "source": [
    "a=0 \n",
    "b=1\n",
    "print(a)\n",
    "print(b)\n",
    "#your code\n",
    "for i in range(8):\n",
    "    c=a+b\n",
    "    print(c)\n",
    "    a=b\n",
    "    b=c"
   ]
  },
  {
   "cell_type": "markdown",
   "metadata": {},
   "source": [
    "### 数据结构：列表、元组、集合、字典的区分和使用"
   ]
  },
  {
   "cell_type": "markdown",
   "metadata": {},
   "source": [
    "#### 13.判断列表的第一个和最后一个数字是否相同"
   ]
  },
  {
   "cell_type": "code",
   "execution_count": null,
   "metadata": {},
   "outputs": [
    {
     "data": {
      "text/plain": [
       "True"
      ]
     },
     "execution_count": 13,
     "metadata": {},
     "output_type": "execute_result"
    }
   ],
   "source": [
    "li=[10,20,30,40,10]\n",
    "if(li[0]==li[-1]):\n",
    "    print(\"True\")\n",
    "else:\n",
    "    print(\"False\")\n",
    "\n"
   ]
  },
  {
   "cell_type": "markdown",
   "metadata": {},
   "source": [
    "#### 14.将字符串中的第三个字符改为a"
   ]
  },
  {
   "cell_type": "code",
   "execution_count": 5,
   "metadata": {},
   "outputs": [
    {
     "name": "stdout",
     "output_type": "stream",
     "text": [
      "phane\n"
     ]
    }
   ],
   "source": [
    "s=\"phone\"\n",
    "a=''\n",
    "a=s[:2]+'a'+s[3:]\n",
    "print(a)\n",
    "\n",
    "\n"
   ]
  },
  {
   "cell_type": "markdown",
   "metadata": {},
   "source": [
    "#### 15.检查字典中是否存在值200"
   ]
  },
  {
   "cell_type": "code",
   "execution_count": null,
   "metadata": {},
   "outputs": [
    {
     "name": "stdout",
     "output_type": "stream",
     "text": [
      "\n"
     ]
    }
   ],
   "source": [
    "Dict = {'a': 100, 'b': 200, 'c': 300}\n",
    "if 200 in Dict.values():\n",
    "    print(\"True\")\n",
    "else:\n",
    "    print(\"False\")\n"
   ]
  },
  {
   "cell_type": "markdown",
   "metadata": {},
   "source": [
    "#### 16.从以下元组访问值15"
   ]
  },
  {
   "cell_type": "code",
   "execution_count": null,
   "metadata": {},
   "outputs": [
    {
     "name": "stdout",
     "output_type": "stream",
     "text": [
      "15\n"
     ]
    }
   ],
   "source": [
    "t = (\"Apple\", [10, 20, 30], (5, 15, 25))\n",
    "\n",
    "print(t[2][1])\n",
    "\n"
   ]
  },
  {
   "cell_type": "markdown",
   "metadata": {},
   "source": [
    "#### 17.将s1,s2的元素合并至s1中,并输出s1"
   ]
  },
  {
   "cell_type": "code",
   "execution_count": null,
   "metadata": {},
   "outputs": [
    {
     "name": "stdout",
     "output_type": "stream",
     "text": [
      "{'cat', 'bird', 'math', 'dog', 'English', 'Chinese'}\n"
     ]
    }
   ],
   "source": [
    "s1 = {\"cat\", \"dog\", \"bird\"}\n",
    "s2= [\"math\", \"English\", \"Chinese\"]\n",
    "\n",
    "s1.update(s2)\n",
    "print(s1)"
   ]
  },
  {
   "cell_type": "markdown",
   "metadata": {},
   "source": [
    "### 函数"
   ]
  },
  {
   "cell_type": "markdown",
   "metadata": {},
   "source": [
    "#### 18.创建函数，实现求输入值的绝对值并调用"
   ]
  },
  {
   "cell_type": "code",
   "execution_count": 9,
   "metadata": {},
   "outputs": [
    {
     "name": "stdout",
     "output_type": "stream",
     "text": [
      "5\n"
     ]
    }
   ],
   "source": [
    "def f1(x):\n",
    "    if x>=0:\n",
    "        return x\n",
    "    else:\n",
    "        return -x\n",
    "    #your code\n",
    "    \n",
    "    \n",
    "print(f1(-5))"
   ]
  },
  {
   "cell_type": "markdown",
   "metadata": {},
   "source": [
    "#### 19.创建函数，使其能够计算输入值的乘积和商，并输出，创建好后进行调用"
   ]
  },
  {
   "cell_type": "code",
   "execution_count": 10,
   "metadata": {},
   "outputs": [
    {
     "name": "stdout",
     "output_type": "stream",
     "text": [
      "[27, 3.0]\n"
     ]
    }
   ],
   "source": [
    "def f2(x,y):\n",
    "    a=x*y\n",
    "    b=x/y\n",
    "    return [a,b]\n",
    "    #your code\n",
    "    \n",
    "print(f2(9,3))"
   ]
  },
  {
   "cell_type": "markdown",
   "metadata": {},
   "source": [
    "### 20.附加题-猜数小游戏（有余力的同学可以选做）\n",
    "需要实现：\n",
    "* 能够让用户输入猜测的值\n",
    "* 比较用户输入值与随机生成的数的大小并打印出两者的大小关系，即“输出大了”、“输出小了”或“恭喜你输入正确”\n",
    "* 注：同学们的结果可能与下方结果不完全一致，因为生成的随机数不相同，但形式一致"
   ]
  },
  {
   "cell_type": "code",
   "execution_count": null,
   "metadata": {},
   "outputs": [
    {
     "name": "stdout",
     "output_type": "stream",
     "text": [
      "输入大了\n",
      "输入小了\n",
      "输入小了\n",
      "输入小了\n",
      "输入小了\n",
      "输入大了\n",
      "输入小了\n",
      "恭喜你输入正确\n"
     ]
    }
   ],
   "source": [
    "import random\n",
    "r=random.randint(1,200)\n",
    "\n",
    "while True:\n",
    "    guess = int(input())\n",
    "    if guess > r:\n",
    "        print(\"输出大了\")\n",
    "    elif guess < r:\n",
    "        print(\"输出小了\")\n",
    "    else:\n",
    "        print(\"恭喜你输入正确\")\n",
    "        break\n",
    "\n"
   ]
  }
 ],
 "metadata": {
  "kernelspec": {
   "display_name": "Python 3",
   "language": "python",
   "name": "python3"
  },
  "language_info": {
   "codemirror_mode": {
    "name": "ipython",
    "version": 3
   },
   "file_extension": ".py",
   "mimetype": "text/x-python",
   "name": "python",
   "nbconvert_exporter": "python",
   "pygments_lexer": "ipython3",
   "version": "3.12.3"
  },
  "toc": {
   "base_numbering": 1,
   "nav_menu": {},
   "number_sections": false,
   "sideBar": true,
   "skip_h1_title": false,
   "title_cell": "Table of Contents",
   "title_sidebar": "Contents",
   "toc_cell": false,
   "toc_position": {},
   "toc_section_display": true,
   "toc_window_display": false
  }
 },
 "nbformat": 4,
 "nbformat_minor": 2
}
