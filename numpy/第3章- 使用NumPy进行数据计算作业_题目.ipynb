{
 "cells": [
  {
   "cell_type": "markdown",
   "metadata": {},
   "source": [
    "## 使用NumPy进行数据计算"
   ]
  },
  {
   "cell_type": "code",
   "execution_count": 1,
   "metadata": {},
   "outputs": [],
   "source": [
    "import numpy as np"
   ]
  },
  {
   "cell_type": "markdown",
   "metadata": {},
   "source": [
    "#### 作业题目中需要用到的数组"
   ]
  },
  {
   "cell_type": "code",
   "execution_count": 2,
   "metadata": {},
   "outputs": [],
   "source": [
    "np.random.seed(1)\n",
    "a1 = np.arange(10)\n",
    "a2 = np.array([1,5,7,4,3])\n",
    "a3 = np.arange(20).reshape(4,-1)\n",
    "a4 = np.random.uniform(10,20,50)\n",
    "a5 = np.random.randint(0,5,10)\n",
    "a6 = np.array([1, 3, 7, 1, 2, 6, 0, 1])\n",
    "a7 = np.random.randint(1,4,size = 6)\n",
    "a8 = np.random.randint(20,size = [2,6])\n",
    "b1 = np.arange(10).reshape(2,-1)\n",
    "b2 = np.repeat(1,10).reshape(2,-1)\n",
    "b3 = np.array(\n",
    "[np.arange(3),\n",
    "np.arange(3,6),\n",
    "np.arange(6,9)])\n",
    "b4 = np.array([1,2,3,4])\n",
    "b5 = np.array([5,6,7,8])"
   ]
  },
  {
   "cell_type": "markdown",
   "metadata": {},
   "source": [
    "#### 例题以及答案格式"
   ]
  },
  {
   "cell_type": "code",
   "execution_count": 3,
   "metadata": {},
   "outputs": [
    {
     "data": {
      "text/plain": [
       "array([[ True,  True,  True],\n",
       "       [ True,  True,  True],\n",
       "       [ True,  True,  True]])"
      ]
     },
     "execution_count": 3,
     "metadata": {},
     "output_type": "execute_result"
    }
   ],
   "source": [
    "# Q.创建一个3×3的所有值为True的numpy数组\n",
    "# A:\n",
    "out = np.ones((3,3),dtype = bool)\n",
    "out   #运行之后可以直接看到结果"
   ]
  },
  {
   "cell_type": "markdown",
   "metadata": {},
   "source": [
    "#### 作业共25道，Q为题目序号，A为答案序号，请阅读题目后在A下作答，不要删除题目中的np.random.seed"
   ]
  },
  {
   "cell_type": "markdown",
   "metadata": {},
   "source": [
    "##### Q1.将a1转换为2行的2维数组 *注：答案中只明确是2行，系统自动确定列数(★☆☆)"
   ]
  },
  {
   "cell_type": "code",
   "execution_count": 21,
   "metadata": {},
   "outputs": [
    {
     "data": {
      "text/plain": [
       "array([[0, 1, 2, 3, 4],\n",
       "       [5, 6, 7, 8, 9]])"
      ]
     },
     "execution_count": 21,
     "metadata": {},
     "output_type": "execute_result"
    }
   ],
   "source": [
    "# A1:\n",
    "a1=a1.reshape(2,-1)\n",
    "a1"
   ]
  },
  {
   "cell_type": "markdown",
   "metadata": {},
   "source": [
    "##### Q2.创建一个10*10的随机数组，并找到这个数组中的最大值、最小值和平均值(★☆☆)"
   ]
  },
  {
   "cell_type": "code",
   "execution_count": 12,
   "metadata": {},
   "outputs": [
    {
     "data": {
      "text/plain": [
       "(array([[0.44798018, 0.89213587, 0.37758434, 0.53842469, 0.65229888,\n",
       "         0.36126102, 0.57100856, 0.63783648, 0.12631489, 0.69020459],\n",
       "        [0.6477494 , 0.35393909, 0.76323305, 0.35653172, 0.75278835,\n",
       "         0.88134183, 0.01166919, 0.49810907, 0.07379201, 0.78695147],\n",
       "        [0.06406733, 0.35531036, 0.94183695, 0.37980329, 0.76292007,\n",
       "         0.771595  , 0.3013605 , 0.77273915, 0.15292982, 0.57863393],\n",
       "        [0.009008  , 0.70904252, 0.47064081, 0.76459257, 0.46739268,\n",
       "         0.26900105, 0.83169259, 0.55132494, 0.0700815 , 0.47247504],\n",
       "        [0.74276483, 0.19195608, 0.4643115 , 0.23036281, 0.50824754,\n",
       "         0.20856831, 0.04930424, 0.51886188, 0.17227835, 0.39631329],\n",
       "        [0.1073653 , 0.50981028, 0.10213523, 0.28871783, 0.23175846,\n",
       "         0.96766793, 0.27831884, 0.23362252, 0.09155644, 0.57006666],\n",
       "        [0.41792654, 0.36784324, 0.81299497, 0.28976   , 0.7173916 ,\n",
       "         0.61294809, 0.42690983, 0.75187297, 0.42781263, 0.42838241],\n",
       "        [0.36190444, 0.15333848, 0.93719032, 0.91640987, 0.78195846,\n",
       "         0.61632895, 0.03599944, 0.65432377, 0.12976961, 0.29435948],\n",
       "        [0.36081475, 0.27464515, 0.07396899, 0.15213716, 0.16161852,\n",
       "         0.9387117 , 0.3711339 , 0.05001809, 0.74095556, 0.29868024],\n",
       "        [0.20435813, 0.98175664, 0.89302121, 0.75934879, 0.65112056,\n",
       "         0.0396835 , 0.81387637, 0.76257313, 0.45528247, 0.53182645]]),\n",
       " 0.9817566411866314,\n",
       " 0.00900799696104293,\n",
       " 0.46632547549213466)"
      ]
     },
     "execution_count": 12,
     "metadata": {},
     "output_type": "execute_result"
    }
   ],
   "source": [
    "# A2:\n",
    "ramarr1=np.random.rand(10,10)\n",
    "ramarr1,ramarr1.max(),ramarr1.min(),ramarr1.mean()"
   ]
  },
  {
   "cell_type": "markdown",
   "metadata": {},
   "source": [
    "##### Q3.创建一个随机5*5矩阵并对它进行归一化（减去平均值再除以方差）(★☆☆)"
   ]
  },
  {
   "cell_type": "code",
   "execution_count": 13,
   "metadata": {},
   "outputs": [
    {
     "data": {
      "text/plain": [
       "array([[-3.81199032, -3.36341702,  1.0708441 , -2.51242535,  6.05394181],\n",
       "       [ 0.50077163, -3.53168356,  4.193452  , -2.54807711, -4.24077274],\n",
       "       [-3.98210691, -3.16572419, -0.79114881, -3.9834691 , -3.3972738 ],\n",
       "       [ 6.23203335,  1.89956328,  5.11517151,  2.47051184, -1.18165296],\n",
       "       [ 3.75058371,  1.2413405 ,  3.85815109, -3.1266006 ,  3.24997764]])"
      ]
     },
     "execution_count": 13,
     "metadata": {},
     "output_type": "execute_result"
    }
   ],
   "source": [
    "#A3:\n",
    "ramarr2=np.random.rand(5,5)\n",
    "mean2=ramarr2.mean()\n",
    "ramarr2-=mean2\n",
    "var2=ramarr2.var()\n",
    "ramarr2/=var2\n",
    "ramarr2\n"
   ]
  },
  {
   "cell_type": "markdown",
   "metadata": {},
   "source": [
    "##### Q4.删除a1中所包含的a2的元素(★☆☆)"
   ]
  },
  {
   "cell_type": "code",
   "execution_count": 19,
   "metadata": {},
   "outputs": [
    {
     "data": {
      "text/plain": [
       "array([0, 2, 6, 8, 9])"
      ]
     },
     "execution_count": 19,
     "metadata": {},
     "output_type": "execute_result"
    }
   ],
   "source": [
    "# A4：\n",
    "mask=~np.isin(a1,a2)\n",
    "a1=a1[mask]\n",
    "a1\n"
   ]
  },
  {
   "cell_type": "markdown",
   "metadata": {},
   "source": [
    "##### Q5.提取a1中的所有奇数为新的数组，并使得a1不发生改变(★☆☆)"
   ]
  },
  {
   "cell_type": "code",
   "execution_count": 33,
   "metadata": {},
   "outputs": [
    {
     "data": {
      "text/plain": [
       "array([1, 3, 5, 7, 9])"
      ]
     },
     "execution_count": 33,
     "metadata": {},
     "output_type": "execute_result"
    }
   ],
   "source": [
    "# A5:\n",
    "newa1=a1[a1%2!=0]\n",
    "newa1\n",
    "\n",
    "# def f(x):\n",
    "#     return x%2!=0\n",
    "# newa1=a1[list(map(f,a1))]\n",
    "# newa1"
   ]
  },
  {
   "cell_type": "markdown",
   "metadata": {},
   "source": [
    "##### Q6.交换数组a3中的第一行和第3行，第二列和最后一列(★☆☆)"
   ]
  },
  {
   "cell_type": "code",
   "execution_count": 55,
   "metadata": {},
   "outputs": [
    {
     "data": {
      "text/plain": [
       "array([[10, 14, 12, 13, 11],\n",
       "       [ 5,  9,  7,  8,  6],\n",
       "       [ 0,  4,  2,  3,  1],\n",
       "       [15, 19, 17, 18, 16]])"
      ]
     },
     "execution_count": 55,
     "metadata": {},
     "output_type": "execute_result"
    }
   ],
   "source": [
    "# A6：\n",
    "tem1=a3[[2,1,0,3],:]\n",
    "tem1=tem1[:,[0,4,2,3,1]]\n",
    "tem1"
   ]
  },
  {
   "cell_type": "markdown",
   "metadata": {},
   "source": [
    "##### Q7.(1)反转a3的行 （2）反转a3的列(★☆☆)"
   ]
  },
  {
   "cell_type": "code",
   "execution_count": 60,
   "metadata": {},
   "outputs": [
    {
     "data": {
      "text/plain": [
       "(array([[15, 16, 17, 18, 19],\n",
       "        [10, 11, 12, 13, 14],\n",
       "        [ 5,  6,  7,  8,  9],\n",
       "        [ 0,  1,  2,  3,  4]]),\n",
       " array([[ 4,  3,  2,  1,  0],\n",
       "        [ 9,  8,  7,  6,  5],\n",
       "        [14, 13, 12, 11, 10],\n",
       "        [19, 18, 17, 16, 15]]))"
      ]
     },
     "execution_count": 60,
     "metadata": {},
     "output_type": "execute_result"
    }
   ],
   "source": [
    "# A7：\n",
    "# [[15 16 17 18 19]\n",
    "#  [10 11 12 13 14]\n",
    "#  [ 5  6  7  8  9]\n",
    "#  [ 0  1  2  3  4]]\n",
    "\n",
    "# [[ 4  3  2  1  0]\n",
    "#  [ 9  8  7  6  5]\n",
    "#  [14 13 12 11 10]\n",
    "#  [19 18 17 16 15]]\n",
    "tem2=a3[::-1,:]\n",
    "tem3=a3[:,::-1]\n",
    "tem2,tem3\n"
   ]
  },
  {
   "cell_type": "markdown",
   "metadata": {},
   "source": [
    "##### Q8.在b1的周围加一个全部为0的边框(★★☆)"
   ]
  },
  {
   "cell_type": "code",
   "execution_count": 39,
   "metadata": {},
   "outputs": [
    {
     "data": {
      "text/plain": [
       "array([[0, 0, 0, 0, 0, 0, 0],\n",
       "       [0, 0, 1, 2, 3, 4, 0],\n",
       "       [0, 5, 6, 7, 8, 9, 0],\n",
       "       [0, 0, 0, 0, 0, 0, 0]])"
      ]
     },
     "execution_count": 39,
     "metadata": {},
     "output_type": "execute_result"
    }
   ],
   "source": [
    "# A8：\n"
   ]
  },
  {
   "cell_type": "markdown",
   "metadata": {},
   "source": [
    "##### Q9.创建一个5*5的矩阵，值“1，2，3，4”在此矩阵对角线的正上方(★★☆)"
   ]
  },
  {
   "cell_type": "code",
   "execution_count": 44,
   "metadata": {},
   "outputs": [
    {
     "data": {
      "text/plain": [
       "array([[0, 1, 0, 0, 0],\n",
       "       [0, 0, 2, 0, 0],\n",
       "       [0, 0, 0, 3, 0],\n",
       "       [0, 0, 0, 0, 4],\n",
       "       [0, 0, 0, 0, 0]])"
      ]
     },
     "execution_count": 44,
     "metadata": {},
     "output_type": "execute_result"
    }
   ],
   "source": [
    "# A9：\n"
   ]
  },
  {
   "cell_type": "markdown",
   "metadata": {},
   "source": [
    "##### Q10.从数组a3中提取7到16之间的所有元素，包括7和16(★★☆)"
   ]
  },
  {
   "cell_type": "code",
   "execution_count": 45,
   "metadata": {},
   "outputs": [
    {
     "data": {
      "text/plain": [
       "array([ 7,  8,  9, 10, 11, 12, 13, 14, 15, 16])"
      ]
     },
     "execution_count": 45,
     "metadata": {},
     "output_type": "execute_result"
    }
   ],
   "source": [
    "# A10:\n"
   ]
  },
  {
   "cell_type": "markdown",
   "metadata": {},
   "source": [
    "##### Q11.创建一个4*6的二维数组，包含10~20之间的浮点数，并保留三位小数(★★☆)"
   ]
  },
  {
   "cell_type": "code",
   "execution_count": 49,
   "metadata": {},
   "outputs": [
    {
     "data": {
      "text/plain": [
       "array([[14.725, 17.428, 11.92 , 14.643, 12.304, 15.082],\n",
       "       [12.086, 10.493, 15.189, 11.723, 13.963, 11.074],\n",
       "       [15.098, 11.021, 12.887, 12.318, 19.677, 12.783],\n",
       "       [12.336, 10.916, 15.701, 14.179, 13.678, 18.13 ]])"
      ]
     },
     "execution_count": 49,
     "metadata": {},
     "output_type": "execute_result"
    }
   ],
   "source": [
    "#A11：\n"
   ]
  },
  {
   "cell_type": "markdown",
   "metadata": {},
   "source": [
    "##### Q12.将b3转换为一维数组(★★☆)"
   ]
  },
  {
   "cell_type": "code",
   "execution_count": 58,
   "metadata": {},
   "outputs": [
    {
     "data": {
      "text/plain": [
       "array([0, 1, 2, 3, 4, 5, 6, 7, 8, 9])"
      ]
     },
     "execution_count": 58,
     "metadata": {},
     "output_type": "execute_result"
    }
   ],
   "source": [
    "# A12：\n"
   ]
  },
  {
   "cell_type": "markdown",
   "metadata": {},
   "source": [
    "##### Q13.获取a4中前五个最大的值(★★☆)"
   ]
  },
  {
   "cell_type": "code",
   "execution_count": 61,
   "metadata": {},
   "outputs": [
    {
     "data": {
      "text/plain": [
       "array([ 2, 38, 14, 27, 26], dtype=int64)"
      ]
     },
     "execution_count": 61,
     "metadata": {},
     "output_type": "execute_result"
    }
   ],
   "source": [
    "# A13：\n"
   ]
  },
  {
   "cell_type": "markdown",
   "metadata": {},
   "source": [
    "##### Q14.计算b4和b5之间的欧式距离(★★☆)"
   ]
  },
  {
   "cell_type": "code",
   "execution_count": 62,
   "metadata": {},
   "outputs": [
    {
     "data": {
      "text/plain": [
       "8.0"
      ]
     },
     "execution_count": 62,
     "metadata": {},
     "output_type": "execute_result"
    }
   ],
   "source": [
    "# A14:\n"
   ]
  },
  {
   "cell_type": "markdown",
   "metadata": {},
   "source": [
    "##### Q15:找出a5中重复的元素并标记为True（如果元素第一次出现则标记为False） (★★★)"
   ]
  },
  {
   "cell_type": "code",
   "execution_count": 68,
   "metadata": {},
   "outputs": [
    {
     "data": {
      "text/plain": [
       "array([1, 3, 0, 0, 2, 2, 1, 3, 4, 2])"
      ]
     },
     "execution_count": 68,
     "metadata": {},
     "output_type": "execute_result"
    }
   ],
   "source": [
    "a5"
   ]
  },
  {
   "cell_type": "code",
   "execution_count": 69,
   "metadata": {},
   "outputs": [
    {
     "data": {
      "text/plain": [
       "array([ True,  True,  True,  True,  True,  True,  True,  True, False,\n",
       "        True])"
      ]
     },
     "execution_count": 69,
     "metadata": {},
     "output_type": "execute_result"
    }
   ],
   "source": [
    "# A15：\n"
   ]
  },
  {
   "cell_type": "markdown",
   "metadata": {},
   "source": [
    "##### Q16:给出下列A和B，求解2Ax = B(★★★)"
   ]
  },
  {
   "cell_type": "code",
   "execution_count": 71,
   "metadata": {},
   "outputs": [
    {
     "data": {
      "text/plain": [
       "array([10.5,  1.5, -2.5])"
      ]
     },
     "execution_count": 71,
     "metadata": {},
     "output_type": "execute_result"
    }
   ],
   "source": [
    "A = np.array([[1,2,3],[-1,-3,-9],[2,2,8]])\n",
    "B = np.array([12,15,8])\n",
    "# A16：\n"
   ]
  },
  {
   "cell_type": "markdown",
   "metadata": {},
   "source": [
    "##### Q17:筛选iris_2d中同时满足行petallength (3rd column) > 1.5sepallength (1st column) < 5.0的项目"
   ]
  },
  {
   "cell_type": "code",
   "execution_count": 74,
   "metadata": {},
   "outputs": [
    {
     "data": {
      "text/plain": [
       "array([[4.8, 3.4, 1.6, 0.2],\n",
       "       [4.8, 3.4, 1.9, 0.2],\n",
       "       [4.7, 3.2, 1.6, 0.2],\n",
       "       [4.8, 3.1, 1.6, 0.2],\n",
       "       [4.9, 2.4, 3.3, 1. ],\n",
       "       [4.9, 2.5, 4.5, 1.7]])"
      ]
     },
     "execution_count": 74,
     "metadata": {},
     "output_type": "execute_result"
    }
   ],
   "source": [
    "url = 'https://archive.ics.uci.edu/ml/machine-learning-databases/iris/iris.data'\n",
    "iris_2d = np.genfromtxt(url, delimiter=',', dtype='float', usecols=[0,1,2,3])\n",
    "#A17：\n"
   ]
  },
  {
   "cell_type": "markdown",
   "metadata": {},
   "source": [
    "##### Q18:对数组a8中各项目进行排名，数值越小排名越高，如果存在并列情况，在a8中位置越靠前则排名越高。\n",
    "##### 例：[1,3,4,5,4,1]——————排名为：[0,2,3,5,4,1]"
   ]
  },
  {
   "cell_type": "code",
   "execution_count": 83,
   "metadata": {},
   "outputs": [
    {
     "data": {
      "text/plain": [
       "array([[4, 1, 0, 5, 2, 3],\n",
       "       [0, 4, 3, 1, 5, 2]], dtype=int64)"
      ]
     },
     "execution_count": 83,
     "metadata": {},
     "output_type": "execute_result"
    }
   ],
   "source": [
    "# A18:\n"
   ]
  },
  {
   "cell_type": "markdown",
   "metadata": {},
   "source": [
    "##### Q19:以iris species作为输入，创建不同类别的ID.\n",
    "##### 如令所有的'Iris-setosa'都为0,所有的'Iris-versicolor'都为1(★★★)"
   ]
  },
  {
   "cell_type": "code",
   "execution_count": 89,
   "metadata": {},
   "outputs": [
    {
     "data": {
      "text/plain": [
       "[0,\n",
       " 0,\n",
       " 0,\n",
       " 0,\n",
       " 0,\n",
       " 0,\n",
       " 0,\n",
       " 0,\n",
       " 0,\n",
       " 0,\n",
       " 0,\n",
       " 0,\n",
       " 0,\n",
       " 0,\n",
       " 0,\n",
       " 0,\n",
       " 0,\n",
       " 0,\n",
       " 0,\n",
       " 0,\n",
       " 0,\n",
       " 0,\n",
       " 0,\n",
       " 0,\n",
       " 0,\n",
       " 0,\n",
       " 0,\n",
       " 0,\n",
       " 0,\n",
       " 0,\n",
       " 0,\n",
       " 0,\n",
       " 0,\n",
       " 0,\n",
       " 0,\n",
       " 0,\n",
       " 0,\n",
       " 0,\n",
       " 0,\n",
       " 0,\n",
       " 0,\n",
       " 0,\n",
       " 0,\n",
       " 0,\n",
       " 0,\n",
       " 0,\n",
       " 0,\n",
       " 0,\n",
       " 0,\n",
       " 0,\n",
       " 1,\n",
       " 1,\n",
       " 1,\n",
       " 1,\n",
       " 1,\n",
       " 1,\n",
       " 1,\n",
       " 1,\n",
       " 1,\n",
       " 1,\n",
       " 1,\n",
       " 1,\n",
       " 1,\n",
       " 1,\n",
       " 1,\n",
       " 1,\n",
       " 1,\n",
       " 1,\n",
       " 1,\n",
       " 1,\n",
       " 1,\n",
       " 1,\n",
       " 1,\n",
       " 1,\n",
       " 1,\n",
       " 1,\n",
       " 1,\n",
       " 1,\n",
       " 1,\n",
       " 1,\n",
       " 1,\n",
       " 1,\n",
       " 1,\n",
       " 1,\n",
       " 1,\n",
       " 1,\n",
       " 1,\n",
       " 1,\n",
       " 1,\n",
       " 1,\n",
       " 1,\n",
       " 1,\n",
       " 1,\n",
       " 1,\n",
       " 1,\n",
       " 1,\n",
       " 1,\n",
       " 1,\n",
       " 1,\n",
       " 1,\n",
       " 2,\n",
       " 2,\n",
       " 2,\n",
       " 2,\n",
       " 2,\n",
       " 2,\n",
       " 2,\n",
       " 2,\n",
       " 2,\n",
       " 2,\n",
       " 2,\n",
       " 2,\n",
       " 2,\n",
       " 2,\n",
       " 2,\n",
       " 2,\n",
       " 2,\n",
       " 2,\n",
       " 2,\n",
       " 2,\n",
       " 2,\n",
       " 2,\n",
       " 2,\n",
       " 2,\n",
       " 2,\n",
       " 2,\n",
       " 2,\n",
       " 2,\n",
       " 2,\n",
       " 2,\n",
       " 2,\n",
       " 2,\n",
       " 2,\n",
       " 2,\n",
       " 2,\n",
       " 2,\n",
       " 2,\n",
       " 2,\n",
       " 2,\n",
       " 2,\n",
       " 2,\n",
       " 2,\n",
       " 2,\n",
       " 2,\n",
       " 2,\n",
       " 2,\n",
       " 2,\n",
       " 2,\n",
       " 2,\n",
       " 2]"
      ]
     },
     "execution_count": 89,
     "metadata": {},
     "output_type": "execute_result"
    }
   ],
   "source": [
    "url = 'https://archive.ics.uci.edu/ml/machine-learning-databases/iris/iris.data'\n",
    "species = np.genfromtxt(url,delimiter = ',',dtype = 'str',usecols = 4)\n",
    "# A19：\n"
   ]
  },
  {
   "cell_type": "markdown",
   "metadata": {},
   "source": [
    "##### Q20:创建一个3*10的numpy数组Z\n",
    "##### 请回答print函数中的代码的功能(★★★)"
   ]
  },
  {
   "cell_type": "code",
   "execution_count": 105,
   "metadata": {},
   "outputs": [],
   "source": [
    "Z = np.random.randint(0,3,(3,10))"
   ]
  },
  {
   "cell_type": "code",
   "execution_count": 106,
   "metadata": {},
   "outputs": [
    {
     "data": {
      "text/plain": [
       "array([[2, 2, 0, 1, 2, 1, 1, 1, 1, 0],\n",
       "       [1, 2, 1, 0, 0, 2, 2, 1, 0, 0],\n",
       "       [0, 2, 2, 0, 1, 1, 1, 2, 1, 1]])"
      ]
     },
     "execution_count": 106,
     "metadata": {},
     "output_type": "execute_result"
    }
   ],
   "source": [
    "Z"
   ]
  },
  {
   "cell_type": "code",
   "execution_count": 111,
   "metadata": {},
   "outputs": [
    {
     "data": {
      "text/plain": [
       "False"
      ]
     },
     "execution_count": 111,
     "metadata": {},
     "output_type": "execute_result"
    }
   ],
   "source": [
    "(~Z.any(axis=0)).any()"
   ]
  },
  {
   "cell_type": "code",
   "execution_count": 112,
   "metadata": {},
   "outputs": [
    {
     "data": {
      "text/plain": [
       "array([False, False, False, False, False, False, False, False, False,\n",
       "       False])"
      ]
     },
     "execution_count": 112,
     "metadata": {},
     "output_type": "execute_result"
    }
   ],
   "source": [
    "~Z.any(axis=0)"
   ]
  },
  {
   "cell_type": "code",
   "execution_count": 102,
   "metadata": {},
   "outputs": [
    {
     "name": "stdout",
     "output_type": "stream",
     "text": [
      "False\n"
     ]
    }
   ],
   "source": [
    "print((~Z.any(axis=0)).any())"
   ]
  },
  {
   "cell_type": "code",
   "execution_count": null,
   "metadata": {},
   "outputs": [],
   "source": [
    "# A20：\n"
   ]
  }
 ],
 "metadata": {
  "kernelspec": {
   "display_name": "myenv",
   "language": "python",
   "name": "python3"
  },
  "language_info": {
   "codemirror_mode": {
    "name": "ipython",
    "version": 3
   },
   "file_extension": ".py",
   "mimetype": "text/x-python",
   "name": "python",
   "nbconvert_exporter": "python",
   "pygments_lexer": "ipython3",
   "version": "3.13.7"
  },
  "toc": {
   "base_numbering": 1,
   "nav_menu": {},
   "number_sections": false,
   "sideBar": true,
   "skip_h1_title": false,
   "title_cell": "Table of Contents",
   "title_sidebar": "Contents",
   "toc_cell": false,
   "toc_position": {},
   "toc_section_display": true,
   "toc_window_display": false
  }
 },
 "nbformat": 4,
 "nbformat_minor": 2
}
