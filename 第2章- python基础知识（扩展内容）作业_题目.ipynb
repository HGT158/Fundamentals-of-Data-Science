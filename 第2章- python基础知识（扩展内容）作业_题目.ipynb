{
 "cells": [
  {
   "cell_type": "markdown",
   "metadata": {},
   "source": [
    "# python基础知识练习2"
   ]
  },
  {
   "cell_type": "markdown",
   "metadata": {},
   "source": [
    "### 此次作业综合了python基础知识以及python范儿编程的内容，请同学们耐心做答~"
   ]
  },
  {
   "cell_type": "markdown",
   "metadata": {},
   "source": [
    "#### 1.计算0-9中奇数项的平方"
   ]
  },
  {
   "cell_type": "code",
   "execution_count": 1,
   "metadata": {},
   "outputs": [
    {
     "name": "stdout",
     "output_type": "stream",
     "text": [
      "[1, 9, 25, 49, 81]\n"
     ]
    }
   ],
   "source": [
    "#your code\n",
    "a=[]\n",
    "for i in range(10):\n",
    "    if (i+1) % 2 == 0:\n",
    "        a.append(i**2)\n",
    "print(a)"
   ]
  },
  {
   "cell_type": "markdown",
   "metadata": {},
   "source": [
    "#### 2.创建一个函数，使其能够输出两个参数中的最大值以及最大值和最小值的差值"
   ]
  },
  {
   "cell_type": "code",
   "execution_count": 2,
   "metadata": {},
   "outputs": [
    {
     "name": "stdout",
     "output_type": "stream",
     "text": [
      "最大值为9，最大值和最小值的差值为4\n"
     ]
    }
   ],
   "source": [
    "def maxnum(x,y):\n",
    "    if x>y:\n",
    "        return f\"最大值为{x}，最大值和最小值的差值为{x-y}\"\n",
    "    else:\n",
    "        return f\"最大值为{y}，最大值和最小值的差值为{y-x}\"\n",
    "    #your code\n",
    "    \n",
    "\n",
    "print(maxnum(9,5))"
   ]
  },
  {
   "cell_type": "markdown",
   "metadata": {},
   "source": [
    "#### 3.使用大括号进行列表解析，形成字典，并实现字典查询"
   ]
  },
  {
   "cell_type": "code",
   "execution_count": null,
   "metadata": {},
   "outputs": [
    {
     "data": {
      "text/plain": [
       "'Elves'"
      ]
     },
     "execution_count": 3,
     "metadata": {},
     "output_type": "execute_result"
    }
   ],
   "source": [
    "students=['Ainur','Dragons','Dwarves','Elves','Ents','Hobbits','Men','Orcs']\n",
    "\n",
    "stu_dict={i: students[i] for i in range(len(students))}\n",
    "\n",
    "stu_dict[3]"
   ]
  },
  {
   "cell_type": "markdown",
   "metadata": {},
   "source": [
    "#### 4.试解释为何下述两行代码的结果不一致"
   ]
  },
  {
   "cell_type": "code",
   "execution_count": null,
   "metadata": {},
   "outputs": [
    {
     "name": "stdout",
     "output_type": "stream",
     "text": [
      "{'A:F', 'A:E', 'A:D', 'B:D', 'B:F', 'C:E', 'C:D', 'C:F', 'B:E'}\n",
      "{'A': 'F', 'B': 'F', 'C': 'F'}\n"
     ]
    }
   ],
   "source": [
    "#试解释为何下述两行代码的结果不一致\n",
    "print({a+':'+b for a in \"ABC\" for b in \"DEF\"})#这是集合推导式 会得到一个拼接成类似 \"A:D\"、\"A:E\" 的字符串集合\n",
    "\n",
    "print({a:b for a in \"ABC\" for b in \"DEF\"})#这是字典推导式 会得到一个键值对的字典 但是因为键重复了 所以最后只会保留一个键值对 结果是 {'A': 'F', 'B': 'F', 'C': 'F'}"
   ]
  },
  {
   "cell_type": "markdown",
   "metadata": {},
   "source": [
    "#### 对此，您给出的解释为：(双击进入该代码块写入您的答案)</br>\n",
    "第一行是集合推导式 会得到一个拼接成类似 \"A:D\"、\"A:E\" 的字符串集合\n",
    "\n",
    "第二行是字典推导式 会得到一个键值对的字典 但是因为键重复了 所以最后只会保留一个键值对 结果是 {'A': 'F', 'B': 'F', 'C': 'F'}\n"
   ]
  },
  {
   "cell_type": "markdown",
   "metadata": {},
   "source": [
    "#### 5.列出列表对象中以t字母结尾的属性与方法"
   ]
  },
  {
   "cell_type": "code",
   "execution_count": 7,
   "metadata": {},
   "outputs": [
    {
     "name": "stdout",
     "output_type": "stream",
     "text": [
      "['count', 'insert', 'sort']\n"
     ]
    }
   ],
   "source": [
    "methods=dir(list)\n",
    "#your code\n",
    "#列出列表对象中以t字母结尾的属性与方法\n",
    "alist=[]\n",
    "for method in methods:\n",
    "    if method.endswith('t'):\n",
    "        alist.append(method)\n",
    "print(alist)\n"
   ]
  },
  {
   "cell_type": "markdown",
   "metadata": {},
   "source": [
    "#### 6.由python字符串中的字母构造不重复的两位字符串"
   ]
  },
  {
   "cell_type": "code",
   "execution_count": 9,
   "metadata": {},
   "outputs": [
    {
     "name": "stdout",
     "output_type": "stream",
     "text": [
      "['py', 'pt', 'ph', 'po', 'pn', 'yp', 'yt', 'yh', 'yo', 'yn', 'tp', 'ty', 'th', 'to', 'tn', 'hp', 'hy', 'ht', 'ho', 'hn', 'op', 'oy', 'ot', 'oh', 'on', 'np', 'ny', 'nt', 'nh', 'no']\n"
     ]
    }
   ],
   "source": [
    "#由python字符串中的字母构造不重复的两位字符串\n",
    "s=\"python\"\n",
    "#your code\n",
    "alist=[]\n",
    "for i in range(6):\n",
    "    for j in range(6):\n",
    "        if i!=j:\n",
    "            alist.append(s[i]+s[j])\n",
    "print(alist)\n"
   ]
  },
  {
   "cell_type": "markdown",
   "metadata": {},
   "source": [
    "#### 7.将下列两个列表合并成为形如下列格式的字典"
   ]
  },
  {
   "cell_type": "code",
   "execution_count": 10,
   "metadata": {},
   "outputs": [
    {
     "name": "stdout",
     "output_type": "stream",
     "text": [
      "{'1001': 'mike', '1002': 'tom', '1003': 'jack', '1004': 'rose'}\n"
     ]
    }
   ],
   "source": [
    "stu_id=['1001','1002','1003','1004']\n",
    "name=[\"mike\",\"tom\",\"jack\",\"rose\"]\n",
    "#your code\n",
    "stu_dict={stu_id[i]:name[i] for i in range(len(stu_id))}\n",
    "print(stu_dict)\n"
   ]
  },
  {
   "cell_type": "markdown",
   "metadata": {},
   "source": [
    "#### 8.以三元操作符形式改写下列代码"
   ]
  },
  {
   "cell_type": "code",
   "execution_count": null,
   "metadata": {},
   "outputs": [
    {
     "name": "stdout",
     "output_type": "stream",
     "text": [
      "不及格\n"
     ]
    }
   ],
   "source": [
    "grade = int(input())\n",
    "if grade >= 90:\n",
    "     print(\"优秀\")\n",
    "elif grade>=60:\n",
    "    print(\"及格\")\n",
    "else:\n",
    "    print(\"不及格\")"
   ]
  },
  {
   "cell_type": "code",
   "execution_count": null,
   "metadata": {},
   "outputs": [
    {
     "data": {
      "text/plain": [
       "'优秀'"
      ]
     },
     "execution_count": 42,
     "metadata": {},
     "output_type": "execute_result"
    }
   ],
   "source": [
    "grade = int(input())\n",
    "#your code\n",
    "print(\"优秀\" if grade >= 90 else \"及格\" if grade >= 60 else \"不及格\")\n"
   ]
  },
  {
   "cell_type": "markdown",
   "metadata": {},
   "source": [
    "#### 9.以三元表达式的形式改写上述代码"
   ]
  },
  {
   "cell_type": "code",
   "execution_count": null,
   "metadata": {},
   "outputs": [
    {
     "data": {
      "text/plain": [
       "'及格'"
      ]
     },
     "execution_count": 44,
     "metadata": {},
     "output_type": "execute_result"
    }
   ],
   "source": [
    "grade = int(input())\n",
    "#your code\n",
    "\n",
    "print(\"优秀\" if grade >= 90 else \"及格\" if grade >= 60 else \"不及格\")\n"
   ]
  },
  {
   "cell_type": "markdown",
   "metadata": {},
   "source": [
    "#### 10.查询列表中出现频率最低的值"
   ]
  },
  {
   "cell_type": "code",
   "execution_count": null,
   "metadata": {},
   "outputs": [
    {
     "name": "stdout",
     "output_type": "stream",
     "text": [
      "4\n"
     ]
    }
   ],
   "source": [
    "a = [1,1,2,2,2,3,3,3,3,4]\n",
    "#your code\n",
    "b=dict()\n",
    "for i in a:\n",
    "    if i in b:\n",
    "        b[i]+=1\n",
    "    else:\n",
    "        b[i]=1\n",
    "min_key=min(b,key=b.get)\n",
    "print(min_key)\n"
   ]
  },
  {
   "cell_type": "markdown",
   "metadata": {},
   "source": [
    "#### 11.使用lambda函数实现求x的立方+9的值"
   ]
  },
  {
   "cell_type": "code",
   "execution_count": 13,
   "metadata": {},
   "outputs": [
    {
     "name": "stdout",
     "output_type": "stream",
     "text": [
      "[17, 36, 73]\n"
     ]
    }
   ],
   "source": [
    "cal_func = lambda x: x**3 + 9 \n",
    "#your code\n",
    "\n",
    "\n",
    "print([cal_func(2), cal_func(3), cal_func(4)])"
   ]
  },
  {
   "cell_type": "markdown",
   "metadata": {},
   "source": [
    "#### 12.使用lambda和map函数实现求两个列表对应元素的平方和"
   ]
  },
  {
   "cell_type": "code",
   "execution_count": 15,
   "metadata": {},
   "outputs": [
    {
     "name": "stdout",
     "output_type": "stream",
     "text": [
      "[17, 29, 45]\n"
     ]
    }
   ],
   "source": [
    "li1=[1,2,3]\n",
    "li2=[4,5,6]\n",
    "#your code\n",
    "\n",
    "func = lambda x,y: x**2 + y**2\n",
    "print([func(li1[i],li2[i]) for i in range(3)])"
   ]
  },
  {
   "cell_type": "markdown",
   "metadata": {},
   "source": [
    "#### 13.从下列字典中获取最小值的键"
   ]
  },
  {
   "cell_type": "code",
   "execution_count": 17,
   "metadata": {},
   "outputs": [
    {
     "name": "stdout",
     "output_type": "stream",
     "text": [
      "Math\n"
     ]
    }
   ],
   "source": [
    "sampleDict = {\n",
    "  'Physics': 82,\n",
    "  'Math': 65,\n",
    "  'history': 75\n",
    "}\n",
    "\n",
    "#your code\n",
    "min_key=min(sampleDict,key=sampleDict.get)\n",
    "print(min_key)\n"
   ]
  },
  {
   "cell_type": "markdown",
   "metadata": {},
   "source": [
    "#### 14.迭代给定列表，并输出除字典中存在的键值以外的数值组成的列表"
   ]
  },
  {
   "cell_type": "code",
   "execution_count": 55,
   "metadata": {},
   "outputs": [
    {
     "name": "stdout",
     "output_type": "stream",
     "text": [
      "[64, 37, 83, 95]\n"
     ]
    }
   ],
   "source": [
    "Number = [47, 64, 69, 37, 76, 83, 95, 97]\n",
    "sampleDict ={'Jhon':47, 'Emma':69, 'Kelly':76, 'Jason':97}\n",
    "#your code\n",
    "\n"
   ]
  },
  {
   "cell_type": "markdown",
   "metadata": {},
   "source": [
    "#### 15.自定义含有三个参数的函数，其中第三个参数的默认值为3，返回三个数的乘积"
   ]
  },
  {
   "cell_type": "code",
   "execution_count": 1,
   "metadata": {},
   "outputs": [
    {
     "name": "stdout",
     "output_type": "stream",
     "text": [
      "8\n",
      "6\n"
     ]
    }
   ],
   "source": [
    "def func1(a,b,c=3):\n",
    "    return a*b*c\n",
    "print(func1(1,2,4))\n",
    "print(func1(1,2))"
   ]
  },
  {
   "cell_type": "markdown",
   "metadata": {},
   "source": [
    "#### 16.实现根据绝对值大小对列表中的数据进行排序"
   ]
  },
  {
   "cell_type": "code",
   "execution_count": null,
   "metadata": {},
   "outputs": [
    {
     "name": "stdout",
     "output_type": "stream",
     "text": [
      "[-7.0, 9.2, 9.999, 10, 20.111, -20.3]\n"
     ]
    }
   ],
   "source": [
    "li=[9.2, 10, -20.3, -7.0, 9.999, 20.111]\n",
    "li.sort(key=abs)\n",
    "print(li)\n",
    "\n"
   ]
  },
  {
   "cell_type": "markdown",
   "metadata": {},
   "source": [
    "#### 17.采用解析式实现从a列表中取被除数，b列表中取除数，返回商，并排除除数为0的情况\n"
   ]
  },
  {
   "cell_type": "code",
   "execution_count": 6,
   "metadata": {},
   "outputs": [
    {
     "name": "stdout",
     "output_type": "stream",
     "text": [
      "[1.0,\n",
      " 0.5,\n",
      " 0.3333333333333333,\n",
      " 2.0,\n",
      " 1.0,\n",
      " 0.6666666666666666,\n",
      " 3.0,\n",
      " 1.5,\n",
      " 1.0,\n",
      " 4.0,\n",
      " 2.0,\n",
      " 1.3333333333333333]\n"
     ]
    }
   ],
   "source": [
    "import pprint\n",
    "a=[1,2,3,4]\n",
    "b=[0,1,2,3]\n",
    "#your code\n",
    "# 采用解析式实现从a列表中取被除数，b列表中取除数，返回商，并排除除数为0的情况\n",
    "\n",
    "result=[a[i]/b[j] for i in range(len(a)) for j in range(len(b)) if b[j]!=0]\n",
    "#哪里有问题\n",
    "\n",
    "pprint.pprint(result)\n"
   ]
  },
  {
   "cell_type": "markdown",
   "metadata": {},
   "source": [
    "#### 18.采用try except方式实现从a列表中取被除数，b列表中取除数，返回商，并排除除数为0的情况"
   ]
  },
  {
   "cell_type": "code",
   "execution_count": 14,
   "metadata": {},
   "outputs": [
    {
     "name": "stdout",
     "output_type": "stream",
     "text": [
      "[1.0, 0.5, 0.3333333333333333, 2.0, 1.0, 0.6666666666666666, 3.0, 1.5, 1.0, 4.0, 2.0, 1.3333333333333333]\n"
     ]
    }
   ],
   "source": [
    "#采用try except方式实现从a列表中取被除数，b列表中取除数，返回商，并排除除数为0的情况\n",
    "a=[1,2,3,4]\n",
    "b=[0,1,2,3]\n",
    "results=[]\n",
    "#your code\n",
    "for i in range(len(a)):\n",
    "    for j in range(len(b)):\n",
    "        try:\n",
    "            results.append(a[i]/b[j])\n",
    "        except ZeroDivisionError:\n",
    "            continue\n",
    "\n",
    "    \n",
    "\n",
    "\n",
    "\n",
    "\n",
    "\n",
    "print(results)"
   ]
  },
  {
   "cell_type": "markdown",
   "metadata": {},
   "source": [
    "#### 19.实现将三个列表对应位置的数作为一个物体的长宽高，计算体积，并实现如下列结果一致的格式化输出"
   ]
  },
  {
   "cell_type": "code",
   "execution_count": null,
   "metadata": {},
   "outputs": [
    {
     "name": "stdout",
     "output_type": "stream",
     "text": [
      "['长为3，宽为1，高为2的物体，体积为6', '长为5，宽为8，高为6的物体，体积为240', '长为7，宽为3，高为5的物体，体积为105']\n"
     ]
    }
   ],
   "source": [
    "c=[3,5,7]\n",
    "k=[1,8,3]\n",
    "g=[2,6,5]\n",
    "alist=[]\n",
    "for i in range(len(c)):\n",
    "    volume=c[i]*k[i]*g[i]\n",
    "    alist.append(f'长为{c[i]}，宽为{k[i]}，高为{g[i]}的物体，体积为{volume}')\n",
    "print(alist)"
   ]
  },
  {
   "cell_type": "markdown",
   "metadata": {},
   "source": [
    "#### 20.创建函数，实现将两个字典中值为十的倍数的键值对剔除后，再合并"
   ]
  },
  {
   "cell_type": "code",
   "execution_count": 18,
   "metadata": {},
   "outputs": [
    {
     "name": "stdout",
     "output_type": "stream",
     "text": [
      "{'tom': 18, 'rose': 21, 'bob': 33, 'jenny': 16}\n"
     ]
    }
   ],
   "source": [
    "def combine(d1,d2):\n",
    "    d3=d1.copy()\n",
    "    d3.update(d2)\n",
    "    #实现将两个字典中值为十的倍数的键值对剔除后，再合并 {'tom': 18, 'rose': 21, 'bob': 33, 'jenny': 16}\n",
    "    keys_to_remove = [key for key, value in d3.items() if value % 10 == 0]\n",
    "    for key in keys_to_remove:\n",
    "        del d3[key]\n",
    "    return d3\n",
    "\n",
    "age1={\"tom\":18, \"mary\": 20,\"jack\":30,\"rose\":21 }\n",
    "age2={\"bob\":33,\"jerry\":50,\"jenny\":16}\n",
    "print(combine(age1,age2))"
   ]
  }
 ],
 "metadata": {
  "kernelspec": {
   "display_name": "Python 3",
   "language": "python",
   "name": "python3"
  },
  "language_info": {
   "codemirror_mode": {
    "name": "ipython",
    "version": 3
   },
   "file_extension": ".py",
   "mimetype": "text/x-python",
   "name": "python",
   "nbconvert_exporter": "python",
   "pygments_lexer": "ipython3",
   "version": "3.12.3"
  },
  "toc": {
   "base_numbering": 1,
   "nav_menu": {},
   "number_sections": false,
   "sideBar": true,
   "skip_h1_title": false,
   "title_cell": "Table of Contents",
   "title_sidebar": "Contents",
   "toc_cell": false,
   "toc_position": {},
   "toc_section_display": true,
   "toc_window_display": false
  }
 },
 "nbformat": 4,
 "nbformat_minor": 2
}
